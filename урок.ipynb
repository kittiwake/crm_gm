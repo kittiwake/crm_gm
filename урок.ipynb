{
 "cells": [
  {
   "cell_type": "markdown",
   "id": "b470b366",
   "metadata": {},
   "source": [
    "```\n",
    "python3 -m venv venv\n",
    "source venv/bin/activate\n",
    "pip install django\n",
    "```\n"
   ]
  },
  {
   "cell_type": "markdown",
   "id": "33e40ae0",
   "metadata": {},
   "source": [
    "```\n",
    "django-admin startproject config .\n",
    "```\n",
    "\n",
    "**config** — стандартное имя для папки с настройками (можно заменить на myproject).\n",
    "\n",
    "Если не указать точку ( .), Django создаст папку *config* внутри текущей, и структура будет сложнее.\n",
    "\n",
    "**Запуск сервера (проверка)**\n",
    "\n",
    "```\n",
    "python manage.py runserver\n",
    "```\n",
    "\n",
    "```bash\n",
    "Watching for file changes with StatReloader\n",
    "Performing system checks...\n",
    "\n",
    "System check identified no issues (0 silenced).\n",
    "\n",
    "You have 18 unapplied migration(s). Your project may not work properly until you apply the migrations for app(s): admin, auth, contenttypes, sessions.\n",
    "Run 'python manage.py migrate' to apply them.\n",
    "July 04, 2025 - 20:27:10\n",
    "Django version 5.2.4, using settings 'config.settings'\n",
    "Starting development server at http://127.0.0.1:8000/\n",
    "Quit the server with CONTROL-C.\n",
    "```"
   ]
  },
  {
   "cell_type": "markdown",
   "id": "08fafdcb",
   "metadata": {},
   "source": [
    "Django-проект состоит из **приложений (apps)**. Создадим первое:\n",
    "```\n",
    "python manage.py startapp office\n",
    "```\n",
    "\n",
    "Нужно добавить приложение в настройки!\n",
    "Открыть `config/settings.py` и добавь 'office' в INSTALLED_APPS:\n",
    "python\n",
    "\n",
    "INSTALLED_APPS = [\n",
    "    ...\n",
    "    'office',\n",
    "]\n",
    "\n",
    "python manage.py startapp office"
   ]
  },
  {
   "cell_type": "markdown",
   "id": "c5f0278e",
   "metadata": {},
   "source": [
    "```\n",
    "python manage.py migrate  # Создаёт стандартные таблицы (пользователи и т.д.)\n",
    "```\n",
    "\n",
    "появился файл db.sqlite3.\n",
    "\n",
    "Создание суперпользователя (админка)\n",
    "```\n",
    "python manage.py createsuperuser\n",
    "```\n",
    "\n",
    "Получим поля ввода логина и пароля:\n",
    "```\n",
    "Username (leave blank to use 'kitti'): admin\n",
    "Email address: [вводить не обязательно]\n",
    "Password: [qaz]\n",
    "Password (again): [qaz]\n",
    "```\n",
    "\n",
    "и можем входить в панель администратора. Запускаем сервер и переходим на http://127.0.0.1:8000/admin. Логин и пароль вводим от суперюзера\n"
   ]
  }
 ],
 "metadata": {
  "language_info": {
   "name": "python"
  }
 },
 "nbformat": 4,
 "nbformat_minor": 5
}
